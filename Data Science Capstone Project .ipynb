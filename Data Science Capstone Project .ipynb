{
    "cells": [
        {
            "cell_type": "markdown",
            "metadata": {
                "collapsed": true
            },
            "source": "# Introduction"
        },
        {
            "cell_type": "markdown",
            "metadata": {},
            "source": "Mumbai and Pune are the two cities with most importance in Maharashtra,India. There has been a war for supremacy in terms of quality of life, jobs, education, entertainment and recreational facilities that these cities have to offer to its residents. I will like to elaborate in this project that will make an attempt to analyze the neighborhood and give the suggestion based on there life requirements and want to decide between these two cities which of the these two cities should be preferred to get settled in life.\nThe decision to choose one over the other would depend on popular venues in the neighborhoods in each of these cities."
        },
        {
            "cell_type": "markdown",
            "metadata": {},
            "source": "# Data "
        },
        {
            "cell_type": "code",
            "execution_count": null,
            "metadata": {},
            "outputs": [],
            "source": ""
        }
    ],
    "metadata": {
        "kernelspec": {
            "display_name": "Python 3.6",
            "language": "python",
            "name": "python3"
        },
        "language_info": {
            "codemirror_mode": {
                "name": "ipython",
                "version": 3
            },
            "file_extension": ".py",
            "mimetype": "text/x-python",
            "name": "python",
            "nbconvert_exporter": "python",
            "pygments_lexer": "ipython3",
            "version": "3.6.9"
        }
    },
    "nbformat": 4,
    "nbformat_minor": 1
}